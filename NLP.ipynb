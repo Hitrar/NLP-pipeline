{
 "cells": [
  {
   "cell_type": "code",
   "execution_count": 45,
   "id": "5b691c8e-db7f-4217-a1ef-846c66bbc0f4",
   "metadata": {
    "tags": []
   },
   "outputs": [],
   "source": [
    "import json\n",
    "import pandas as pd\n",
    "import numpy as np\n",
    "import plotly.express as px\n",
    "import re\n",
    "import matplotlib.pyplot as plt\n",
    "import tensorflow\n",
    "import nltk\n",
    "import gensim\n",
    "from sklearn.preprocessing import LabelEncoder\n",
    "from sklearn.feature_extraction.text import CountVectorizer\n",
    "from sklearn.feature_extraction.text import TfidfTransformer\n",
    "from sklearn.naive_bayes import MultinomialNB\n",
    "from sklearn.metrics import accuracy_score\n",
    "from sklearn.model_selection import train_test_split\n",
    "from sklearn import metrics"
   ]
  },
  {
   "cell_type": "code",
   "execution_count": 9,
   "id": "fca1c50a-9efb-4425-8480-035664231d0a",
   "metadata": {
    "tags": []
   },
   "outputs": [
    {
     "name": "stderr",
     "output_type": "stream",
     "text": [
      "[nltk_data] Downloading package punkt to\n",
      "[nltk_data]     C:\\Users\\Kipkorir\\AppData\\Roaming\\nltk_data...\n",
      "[nltk_data]   Package punkt is already up-to-date!\n",
      "[nltk_data] Downloading package stopwords to\n",
      "[nltk_data]     C:\\Users\\Kipkorir\\AppData\\Roaming\\nltk_data...\n",
      "[nltk_data]   Unzipping corpora\\stopwords.zip.\n",
      "[nltk_data] Downloading package wordnet to\n",
      "[nltk_data]     C:\\Users\\Kipkorir\\AppData\\Roaming\\nltk_data...\n",
      "[nltk_data]   Package wordnet is already up-to-date!\n"
     ]
    }
   ],
   "source": [
    "\n",
    "nltk.download('punkt')\n",
    "nltk.download('stopwords')\n",
    "nltk.download('wordnet')\n",
    "from nltk.corpus import stopwords\n",
    "from nltk.corpus import wordnet\n",
    "from nltk.stem import WordNetLemmatizer\n",
    "lemmatizer = WordNetLemmatizer() \n",
    "from gensim.models import Word2Vec"
   ]
  },
  {
   "cell_type": "code",
   "execution_count": 2,
   "id": "49fcb296-b382-40b0-a63e-c2a2b61df483",
   "metadata": {
    "tags": []
   },
   "outputs": [
    {
     "data": {
      "text/html": [
       "<div>\n",
       "<style scoped>\n",
       "    .dataframe tbody tr th:only-of-type {\n",
       "        vertical-align: middle;\n",
       "    }\n",
       "\n",
       "    .dataframe tbody tr th {\n",
       "        vertical-align: top;\n",
       "    }\n",
       "\n",
       "    .dataframe thead th {\n",
       "        text-align: right;\n",
       "    }\n",
       "</style>\n",
       "<table border=\"1\" class=\"dataframe\">\n",
       "  <thead>\n",
       "    <tr style=\"text-align: right;\">\n",
       "      <th></th>\n",
       "      <th>text</th>\n",
       "      <th>date</th>\n",
       "      <th>label</th>\n",
       "      <th>id</th>\n",
       "      <th>label_name</th>\n",
       "    </tr>\n",
       "  </thead>\n",
       "  <tbody>\n",
       "    <tr>\n",
       "      <th>0</th>\n",
       "      <td>The {@Clinton LumberKings@} beat the {@Cedar R...</td>\n",
       "      <td>2019-09-08</td>\n",
       "      <td>4</td>\n",
       "      <td>1170516324419866624</td>\n",
       "      <td>sports_&amp;_gaming</td>\n",
       "    </tr>\n",
       "    <tr>\n",
       "      <th>1</th>\n",
       "      <td>I would rather hear Eli Gold announce this Aub...</td>\n",
       "      <td>2019-09-08</td>\n",
       "      <td>4</td>\n",
       "      <td>1170516440690176006</td>\n",
       "      <td>sports_&amp;_gaming</td>\n",
       "    </tr>\n",
       "    <tr>\n",
       "      <th>2</th>\n",
       "      <td>Someone take my phone away, I’m trying to not ...</td>\n",
       "      <td>2019-09-08</td>\n",
       "      <td>4</td>\n",
       "      <td>1170516543387709440</td>\n",
       "      <td>sports_&amp;_gaming</td>\n",
       "    </tr>\n",
       "    <tr>\n",
       "      <th>3</th>\n",
       "      <td>A year ago, Louisville struggled to beat an FC...</td>\n",
       "      <td>2019-09-08</td>\n",
       "      <td>4</td>\n",
       "      <td>1170516620466429953</td>\n",
       "      <td>sports_&amp;_gaming</td>\n",
       "    </tr>\n",
       "    <tr>\n",
       "      <th>4</th>\n",
       "      <td>Anyone know why the #Dodgers #Orioles game nex...</td>\n",
       "      <td>2019-09-08</td>\n",
       "      <td>4</td>\n",
       "      <td>1170516711411310592</td>\n",
       "      <td>sports_&amp;_gaming</td>\n",
       "    </tr>\n",
       "  </tbody>\n",
       "</table>\n",
       "</div>"
      ],
      "text/plain": [
       "                                                text       date  label  \\\n",
       "0  The {@Clinton LumberKings@} beat the {@Cedar R... 2019-09-08      4   \n",
       "1  I would rather hear Eli Gold announce this Aub... 2019-09-08      4   \n",
       "2  Someone take my phone away, I’m trying to not ... 2019-09-08      4   \n",
       "3  A year ago, Louisville struggled to beat an FC... 2019-09-08      4   \n",
       "4  Anyone know why the #Dodgers #Orioles game nex... 2019-09-08      4   \n",
       "\n",
       "                    id       label_name  \n",
       "0  1170516324419866624  sports_&_gaming  \n",
       "1  1170516440690176006  sports_&_gaming  \n",
       "2  1170516543387709440  sports_&_gaming  \n",
       "3  1170516620466429953  sports_&_gaming  \n",
       "4  1170516711411310592  sports_&_gaming  "
      ]
     },
     "execution_count": 2,
     "metadata": {},
     "output_type": "execute_result"
    }
   ],
   "source": [
    "# loading data to pandas dataframe\n",
    "df = pd.read_json(\"CETM47-22_23-AS2-Data.json\")\n",
    "df.head()"
   ]
  },
  {
   "cell_type": "code",
   "execution_count": 22,
   "id": "386f840f-5a77-4107-844d-eb3e7107e220",
   "metadata": {
    "tags": []
   },
   "outputs": [
    {
     "name": "stdout",
     "output_type": "stream",
     "text": [
      "Count of label wise values: \n",
      " pop_culture                 2512\n",
      "sports_&_gaming             2291\n",
      "daily_life                   883\n",
      "science_&_technology         326\n",
      "business_&_entrepreneurs     287\n",
      "arts_&_culture               144\n",
      "Name: label_name, dtype: int64\n",
      "       text   date  label     id  label_name\n",
      "0     False  False  False  False       False\n",
      "1     False  False  False  False       False\n",
      "2     False  False  False  False       False\n",
      "3     False  False  False  False       False\n",
      "4     False  False  False  False       False\n",
      "...     ...    ...    ...    ...         ...\n",
      "6438  False  False  False  False       False\n",
      "6439  False  False  False  False       False\n",
      "6440  False  False  False  False       False\n",
      "6441  False  False  False  False       False\n",
      "6442  False  False  False  False       False\n",
      "\n",
      "[6443 rows x 5 columns]\n"
     ]
    }
   ],
   "source": [
    "# df.describe()\n",
    "print(\"Count of label wise values: \\n\", df.label_name.value_counts())\n",
    "\n",
    "print(df.isnull()) #.count())"
   ]
  },
  {
   "cell_type": "code",
   "execution_count": 21,
   "id": "0ffc6575-c391-49c6-88d2-816a1b34d2fa",
   "metadata": {
    "tags": []
   },
   "outputs": [
    {
     "data": {
      "image/png": "[encoded data removed]",
      "text/plain": [
       "<Figure size 640x480 with 1 Axes>"
      ]
     },
     "metadata": {},
     "output_type": "display_data"
    }
   ],
   "source": [
    "plt.hist(df.label_name, orientation='horizontal')\n",
    "plt.title(\"Tweet sentiment distribution\")\n",
    "plt.show()"
   ]
  },
  {
   "cell_type": "code",
   "execution_count": 23,
   "id": "5077ee8c-0d40-4feb-97ca-1b30e6c0b062",
   "metadata": {
    "tags": []
   },
   "outputs": [],
   "source": [
    "import string\n",
    "# function to clean tweets\n",
    "def data_cleaning(data):\n",
    "    cleaned_data = []\n",
    "    fillerWord = (\"so\",\"yeah\",\"okay\",\"um\",\"uh\",\"mmm\",\"ahan\",\"uh\",\"huh\",\"ahm\",\"oh\",\"sooo\",\"uh\",\"huh\",\"yeh\",\"yah\",\"hmm\",\"bye\")\n",
    "    fillerword_reg= \"bye[.,]|so[.,]|yeah[.,]|okay[.,]|um[.,]|uh[.,]|mmm[.,]|ahan[.,]|uh[.,]|huh[.,]|ahm[.,]|oh[.,]|sooo[.,]|uh[.,]|huh[.,]|yeh[.,]|yah[.,]|hmm[.,]\"\n",
    "    STOPWORDS = set(stopwords.words('english'))\n",
    "    remove=[\"doesn't\",\"not\",\"nor\",\"neither\",\"isn't\",\"hadn't\",\"mightn't\",\"needn't\",\"wasn't\"]\n",
    "    for i in remove:\n",
    "        STOPWORDS.discard(i)\n",
    "    \n",
    "    STOPWORDS.add(fillerWord)  \n",
    "    for i in range(len(data)):\n",
    "        tweet = re.sub(\"#\", \"\", data[i])#extracting hashtags\n",
    "        tweet = re.sub(r'^https?:\\/\\/.*[\\r\\n]*', '',tweet, flags=re.MULTILINE)#extracting links\n",
    "        html=re.compile(r'<.*?>')#extracting html tags\n",
    "        tweet =html.sub(r\"\", tweet)\n",
    "        #extracting symbols and characters\n",
    "        tweet=re.sub(r'@\\w+',\"\",tweet)\n",
    "        tweet=re.sub(r'#\\w+',\"\",tweet) \n",
    "        tweet=re.sub(r'\\w+:\\/{2}[\\d\\w-]+(\\.[\\d\\w-]+)*(?:(?:\\/[^\\s/]*))*', '', tweet) \n",
    "        punctuation = r\"\"\"!\"#$%&'()*+,-./:;<=>?@[\\]^_`{|}~\"\"\"\n",
    "        tweet.rstrip(string.punctuation)\n",
    "        tweet=re.sub('[^A-Za-z\\s]+',\"\", tweet)\n",
    "        tweet = tweet.lower()\n",
    "        tweet = tweet.split()\n",
    "        #Lemmatization to normalise text\n",
    "        tweet = [lemmatizer.lemmatize(word) for word in tweet if not word in STOPWORDS]\n",
    "        tweet = ' '.join(tweet)\n",
    "        filler=re.compile(fillerword_reg)\n",
    "        tweet=filler.sub(\"\",tweet)\n",
    "        cleaned_data.append(tweet)\n",
    "    return cleaned_data"
   ]
  },
  {
   "cell_type": "code",
   "execution_count": 24,
   "id": "2fb650bb-f953-4eb0-b5f3-19f4603c6725",
   "metadata": {
    "tags": []
   },
   "outputs": [
    {
     "data": {
      "text/html": [
       "<div>\n",
       "<style scoped>\n",
       "    .dataframe tbody tr th:only-of-type {\n",
       "        vertical-align: middle;\n",
       "    }\n",
       "\n",
       "    .dataframe tbody tr th {\n",
       "        vertical-align: top;\n",
       "    }\n",
       "\n",
       "    .dataframe thead th {\n",
       "        text-align: right;\n",
       "    }\n",
       "</style>\n",
       "<table border=\"1\" class=\"dataframe\">\n",
       "  <thead>\n",
       "    <tr style=\"text-align: right;\">\n",
       "      <th></th>\n",
       "      <th>text</th>\n",
       "      <th>date</th>\n",
       "      <th>label</th>\n",
       "      <th>id</th>\n",
       "      <th>label_name</th>\n",
       "      <th>CleanedTweet</th>\n",
       "    </tr>\n",
       "  </thead>\n",
       "  <tbody>\n",
       "    <tr>\n",
       "      <th>0</th>\n",
       "      <td>The {@Clinton LumberKings@} beat the {@Cedar R...</td>\n",
       "      <td>2019-09-08</td>\n",
       "      <td>4</td>\n",
       "      <td>1170516324419866624</td>\n",
       "      <td>sports_&amp;_gaming</td>\n",
       "      <td>lumberkings beat rapid kernel game western div...</td>\n",
       "    </tr>\n",
       "    <tr>\n",
       "      <th>1</th>\n",
       "      <td>I would rather hear Eli Gold announce this Aub...</td>\n",
       "      <td>2019-09-08</td>\n",
       "      <td>4</td>\n",
       "      <td>1170516440690176006</td>\n",
       "      <td>sports_&amp;_gaming</td>\n",
       "      <td>would rather hear eli gold announce auburn gam...</td>\n",
       "    </tr>\n",
       "    <tr>\n",
       "      <th>2</th>\n",
       "      <td>Someone take my phone away, I’m trying to not ...</td>\n",
       "      <td>2019-09-08</td>\n",
       "      <td>4</td>\n",
       "      <td>1170516543387709440</td>\n",
       "      <td>sports_&amp;_gaming</td>\n",
       "      <td>someone take phone away im trying not look bla...</td>\n",
       "    </tr>\n",
       "    <tr>\n",
       "      <th>3</th>\n",
       "      <td>A year ago, Louisville struggled to beat an FC...</td>\n",
       "      <td>2019-09-08</td>\n",
       "      <td>4</td>\n",
       "      <td>1170516620466429953</td>\n",
       "      <td>sports_&amp;_gaming</td>\n",
       "      <td>year ago louisville struggled beat fcs opponen...</td>\n",
       "    </tr>\n",
       "    <tr>\n",
       "      <th>4</th>\n",
       "      <td>Anyone know why the #Dodgers #Orioles game nex...</td>\n",
       "      <td>2019-09-08</td>\n",
       "      <td>4</td>\n",
       "      <td>1170516711411310592</td>\n",
       "      <td>sports_&amp;_gaming</td>\n",
       "      <td>anyone know dodger oriole game next thursday f...</td>\n",
       "    </tr>\n",
       "  </tbody>\n",
       "</table>\n",
       "</div>"
      ],
      "text/plain": [
       "                                                text       date  label  \\\n",
       "0  The {@Clinton LumberKings@} beat the {@Cedar R... 2019-09-08      4   \n",
       "1  I would rather hear Eli Gold announce this Aub... 2019-09-08      4   \n",
       "2  Someone take my phone away, I’m trying to not ... 2019-09-08      4   \n",
       "3  A year ago, Louisville struggled to beat an FC... 2019-09-08      4   \n",
       "4  Anyone know why the #Dodgers #Orioles game nex... 2019-09-08      4   \n",
       "\n",
       "                    id       label_name  \\\n",
       "0  1170516324419866624  sports_&_gaming   \n",
       "1  1170516440690176006  sports_&_gaming   \n",
       "2  1170516543387709440  sports_&_gaming   \n",
       "3  1170516620466429953  sports_&_gaming   \n",
       "4  1170516711411310592  sports_&_gaming   \n",
       "\n",
       "                                        CleanedTweet  \n",
       "0  lumberkings beat rapid kernel game western div...  \n",
       "1  would rather hear eli gold announce auburn gam...  \n",
       "2  someone take phone away im trying not look bla...  \n",
       "3  year ago louisville struggled beat fcs opponen...  \n",
       "4  anyone know dodger oriole game next thursday f...  "
      ]
     },
     "execution_count": 24,
     "metadata": {},
     "output_type": "execute_result"
    }
   ],
   "source": [
    "#Preprocessing and cleaning train data\n",
    "text_data=df['text'].tolist()\n",
    "processed_text=data_cleaning(text_data)\n",
    "\n",
    "cleaned_tweet =pd.DataFrame(processed_text)\n",
    "df['cleaned_tweet']=cleaned_tweet\n",
    "\n",
    "\n",
    "df.head()"
   ]
  },
  {
   "cell_type": "code",
   "execution_count": 38,
   "id": "f772d416-f91d-4bd6-b70b-c86de80bcd6b",
   "metadata": {
    "tags": []
   },
   "outputs": [
    {
     "name": "stdout",
     "output_type": "stream",
     "text": [
      "(6443,)\n",
      "(6443,)\n"
     ]
    }
   ],
   "source": [
    "# Seperating tweet and class labels\n",
    "X_train = df.cleaned_tweet\n",
    "Y_train = df.label\n",
    "\n",
    "x_test = df.cleaned_tweet\n",
    "y_test = df.label\n",
    "\n",
    "print(X_train.shape)\n",
    "print(Y_train.shape)"
   ]
  },
  {
   "cell_type": "code",
   "execution_count": 39,
   "id": "f46183bf-d9f9-4523-b4e8-47ca4ce30ed0",
   "metadata": {
    "tags": []
   },
   "outputs": [
    {
     "name": "stdout",
     "output_type": "stream",
     "text": [
      "(6443, 1000)\n",
      "(6443, 1000)\n"
     ]
    }
   ],
   "source": [
    "# Convert tweets to a matrix of token counts.\n",
    "vectorizer = CountVectorizer(max_features= 1000, min_df = 3, max_df = 0.6)\n",
    "# fit the model for training data\n",
    "X_train_data = vectorizer.fit_transform(X_train)\n",
    "print(X_train_data.shape)\n",
    "x_test_data = vectorizer.fit_transform(x_test)\n",
    "\n",
    "transformer = TfidfTransformer()\n",
    "X_train_data = transformer.fit_transform(X_train_data).toarray()\n",
    "\n",
    "print(X_train_data.shape)"
   ]
  },
  {
   "cell_type": "code",
   "execution_count": 46,
   "id": "75186e83-721e-4a2c-9cdd-c4309fa1a11a",
   "metadata": {
    "tags": []
   },
   "outputs": [
    {
     "name": "stdout",
     "output_type": "stream",
     "text": [
      "Naive Bayes: 0.7414684591520165\n"
     ]
    }
   ],
   "source": [
    "#  Training and testing naive bayes classifier\n",
    "X1_train, X1_test, y1_train, y1_test = train_test_split(X_train_data, Y_train, test_size=0.15,random_state = 15)\n",
    "\n",
    "modelNB = MultinomialNB()\n",
    "modelNB.fit(X1_train,y1_train)\n",
    "\n",
    "y_pred = modelNB.predict(X1_test)\n",
    "print(\"Naive Bayes:\", metrics.accuracy_score(y1_test, y_pred))"
   ]
  },
  {
   "cell_type": "code",
   "execution_count": null,
   "id": "1ad32a78-09a7-49c4-a65e-ff531e3b8ea1",
   "metadata": {},
   "outputs": [],
   "source": []
  }
 ],
 "metadata": {
  "kernelspec": {
   "display_name": "Python 3 (ipykernel)",
   "language": "python",
   "name": "python3"
  },
  "language_info": {
   "codemirror_mode": {
    "name": "ipython",
    "version": 3
   },
   "file_extension": ".py",
   "mimetype": "text/x-python",
   "name": "python",
   "nbconvert_exporter": "python",
   "pygments_lexer": "ipython3",
   "version": "3.11.2"
  }
 },
 "nbformat": 4,
 "nbformat_minor": 5
}
